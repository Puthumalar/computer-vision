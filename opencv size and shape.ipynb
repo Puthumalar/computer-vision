{
 "cells": [
  {
   "cell_type": "code",
   "execution_count": 1,
   "id": "fd7ba951",
   "metadata": {},
   "outputs": [],
   "source": [
    "import cv2"
   ]
  },
  {
   "cell_type": "code",
   "execution_count": 2,
   "id": "8e39a1d6",
   "metadata": {},
   "outputs": [],
   "source": [
    "import numpy as np"
   ]
  },
  {
   "cell_type": "code",
   "execution_count": 3,
   "id": "b0e0179d",
   "metadata": {},
   "outputs": [],
   "source": [
    "t=cv2.imread(\"C:/Users/SN111/Pictures/squirrel.jpg\")"
   ]
  },
  {
   "cell_type": "code",
   "execution_count": 4,
   "id": "c7780202",
   "metadata": {
    "scrolled": true
   },
   "outputs": [
    {
     "data": {
      "text/plain": [
       "array([[[ 16,  79,  69],\n",
       "        [ 16,  79,  69],\n",
       "        [ 16,  79,  69],\n",
       "        ...,\n",
       "        [  1, 149, 143],\n",
       "        [  1, 149, 143],\n",
       "        [  1, 149, 143]],\n",
       "\n",
       "       [[ 17,  80,  70],\n",
       "        [ 17,  80,  70],\n",
       "        [ 17,  80,  70],\n",
       "        ...,\n",
       "        [  1, 149, 143],\n",
       "        [  1, 149, 143],\n",
       "        [  0, 148, 142]],\n",
       "\n",
       "       [[ 17,  80,  70],\n",
       "        [ 17,  80,  70],\n",
       "        [ 17,  80,  70],\n",
       "        ...,\n",
       "        [  1, 149, 143],\n",
       "        [  0, 148, 142],\n",
       "        [  0, 148, 142]],\n",
       "\n",
       "       ...,\n",
       "\n",
       "       [[  2,  21,  48],\n",
       "        [  0,  19,  47],\n",
       "        [  0,  21,  52],\n",
       "        ...,\n",
       "        [ 51, 126, 135],\n",
       "        [ 51, 126, 135],\n",
       "        [ 52, 127, 136]],\n",
       "\n",
       "       [[  3,  22,  49],\n",
       "        [  0,  21,  49],\n",
       "        [  1,  22,  53],\n",
       "        ...,\n",
       "        [ 53, 128, 137],\n",
       "        [ 53, 128, 137],\n",
       "        [ 53, 128, 137]],\n",
       "\n",
       "       [[  3,  22,  49],\n",
       "        [  0,  21,  49],\n",
       "        [  1,  22,  53],\n",
       "        ...,\n",
       "        [ 53, 128, 137],\n",
       "        [ 53, 128, 137],\n",
       "        [ 53, 128, 137]]], dtype=uint8)"
      ]
     },
     "execution_count": 4,
     "metadata": {},
     "output_type": "execute_result"
    }
   ],
   "source": [
    "t"
   ]
  },
  {
   "cell_type": "code",
   "execution_count": 5,
   "id": "b188e178",
   "metadata": {},
   "outputs": [],
   "source": [
    "shp=t.shape"
   ]
  },
  {
   "cell_type": "code",
   "execution_count": 6,
   "id": "c86f43d8",
   "metadata": {},
   "outputs": [
    {
     "name": "stdout",
     "output_type": "stream",
     "text": [
      "(787, 1180, 3)\n"
     ]
    }
   ],
   "source": [
    "print(shp)"
   ]
  },
  {
   "cell_type": "code",
   "execution_count": 8,
   "id": "68e62f05",
   "metadata": {},
   "outputs": [],
   "source": [
    "cv2.imshow(\"show\",t)\n",
    "cv2.waitKey(50000)\n",
    "cv2.destroyAllWindows()"
   ]
  },
  {
   "cell_type": "code",
   "execution_count": 9,
   "id": "6c175d37",
   "metadata": {},
   "outputs": [],
   "source": [
    "sz=t.size"
   ]
  },
  {
   "cell_type": "code",
   "execution_count": 10,
   "id": "6cf9d046",
   "metadata": {},
   "outputs": [
    {
     "name": "stdout",
     "output_type": "stream",
     "text": [
      "2785980\n"
     ]
    }
   ],
   "source": [
    "print(sz)"
   ]
  },
  {
   "cell_type": "code",
   "execution_count": null,
   "id": "ffa3f155",
   "metadata": {},
   "outputs": [],
   "source": []
  }
 ],
 "metadata": {
  "kernelspec": {
   "display_name": "Python 3 (ipykernel)",
   "language": "python",
   "name": "python3"
  },
  "language_info": {
   "codemirror_mode": {
    "name": "ipython",
    "version": 3
   },
   "file_extension": ".py",
   "mimetype": "text/x-python",
   "name": "python",
   "nbconvert_exporter": "python",
   "pygments_lexer": "ipython3",
   "version": "3.11.5"
  }
 },
 "nbformat": 4,
 "nbformat_minor": 5
}
