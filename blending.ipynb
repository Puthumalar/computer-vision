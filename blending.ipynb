{
 "cells": [
  {
   "cell_type": "code",
   "execution_count": 1,
   "id": "a6dd8a38",
   "metadata": {},
   "outputs": [],
   "source": [
    "import cv2\n",
    "import numpy"
   ]
  },
  {
   "cell_type": "code",
   "execution_count": 2,
   "id": "35b4fe67",
   "metadata": {},
   "outputs": [],
   "source": [
    "im1=cv2.imread(\"C:/Users/SN111/Pictures/squirrel resized 1.jpg\")\n",
    "im2=cv2.imread(\"C:/Users/SN111/Pictures/dog resize 1.jpg\")"
   ]
  },
  {
   "cell_type": "code",
   "execution_count": 3,
   "id": "87e85587",
   "metadata": {},
   "outputs": [],
   "source": [
    "cv2.imshow(\"im1\",im1)\n",
    "cv2.imshow(\"im2\",im2)\n",
    "cv2.waitKey(0)\n",
    "cv2.destroyAllWindows()"
   ]
  },
  {
   "cell_type": "code",
   "execution_count": 4,
   "id": "8bde23ac",
   "metadata": {},
   "outputs": [],
   "source": [
    "im_blend=cv2.addWeighted(im1,1,im2,0.3,0)"
   ]
  },
  {
   "cell_type": "code",
   "execution_count": 5,
   "id": "e445c758",
   "metadata": {},
   "outputs": [],
   "source": [
    "cv2.imshow(\"im1\",im1)\n",
    "cv2.waitKey(0)\n",
    "cv2.imshow(\"im2\",im2)\n",
    "cv2.waitKey(0)\n",
    "cv2.imshow(\"Blended\",im_blend)\n",
    "cv2.waitKey(0)\n",
    "cv2.destroyAllWindows()"
   ]
  },
  {
   "cell_type": "code",
   "execution_count": 6,
   "id": "9979aab1",
   "metadata": {},
   "outputs": [],
   "source": [
    "#image_subtraction\n",
    "imsub=cv2.subtract(im1,im2)"
   ]
  },
  {
   "cell_type": "code",
   "execution_count": 10,
   "id": "f312aa70",
   "metadata": {},
   "outputs": [],
   "source": [
    "cv2.imshow(\"sub\",imsub)\n",
    "cv2.waitKey(0)\n",
    "cv2.destroyAllWindows()\n"
   ]
  },
  {
   "cell_type": "code",
   "execution_count": 12,
   "id": "f068f838",
   "metadata": {},
   "outputs": [],
   "source": [
    "And=cv2.bitwise_and(im1,im2)\n",
    "OR=cv2.bitwise_or(im1,im2)\n",
    "NOT=cv2.bitwise_not(im1)\n",
    "XOR=cv2.bitwise_xor(im1,im2)"
   ]
  },
  {
   "cell_type": "code",
   "execution_count": 13,
   "id": "8d8674f6",
   "metadata": {},
   "outputs": [],
   "source": [
    "cv2.imshow(\"b_and\",And)\n",
    "cv2.imshow(\"b_or\",OR)\n",
    "cv2.imshow(\"b_not\",NOT)\n",
    "cv2.imshow(\"b_xor\",XOR)\n",
    "cv2.waitKey(0)\n",
    "cv2.destroyAllWindows()"
   ]
  },
  {
   "cell_type": "code",
   "execution_count": 26,
   "id": "131549ec",
   "metadata": {},
   "outputs": [],
   "source": [
    "xor=cv2.bitwise_not(OR)"
   ]
  },
  {
   "cell_type": "code",
   "execution_count": 27,
   "id": "c7a892fa",
   "metadata": {},
   "outputs": [
    {
     "ename": "NameError",
     "evalue": "name 'NOR' is not defined",
     "output_type": "error",
     "traceback": [
      "\u001b[1;31m---------------------------------------------------------------------------\u001b[0m",
      "\u001b[1;31mNameError\u001b[0m                                 Traceback (most recent call last)",
      "Cell \u001b[1;32mIn[27], line 1\u001b[0m\n\u001b[1;32m----> 1\u001b[0m cv2\u001b[38;5;241m.\u001b[39mimshow(\u001b[38;5;124m\"\u001b[39m\u001b[38;5;124mnot+or\u001b[39m\u001b[38;5;124m\"\u001b[39m,NOR)\n\u001b[0;32m      2\u001b[0m cv2\u001b[38;5;241m.\u001b[39mimshow(\u001b[38;5;124m\"\u001b[39m\u001b[38;5;124mb_xor\u001b[39m\u001b[38;5;124m\"\u001b[39m,XOR)\n\u001b[0;32m      3\u001b[0m cv2\u001b[38;5;241m.\u001b[39mwaitKey(\u001b[38;5;241m0\u001b[39m)\n",
      "\u001b[1;31mNameError\u001b[0m: name 'NOR' is not defined"
     ]
    }
   ],
   "source": [
    "cv2.imshow(\"b_\",NOR)\n",
    "cv2.imshow(\"b_\",XOR)\n",
    "cv2.waitKey(0)\n",
    "cv2.destroyAllWindows()"
   ]
  },
  {
   "cell_type": "code",
   "execution_count": null,
   "id": "e94119d8",
   "metadata": {
    "scrolled": true
   },
   "outputs": [],
   "source": [
    "#ROI region of intrest\n",
    "roi=im1[,]"
   ]
  }
 ],
 "metadata": {
  "kernelspec": {
   "display_name": "Python 3 (ipykernel)",
   "language": "python",
   "name": "python3"
  },
  "language_info": {
   "codemirror_mode": {
    "name": "ipython",
    "version": 3
   },
   "file_extension": ".py",
   "mimetype": "text/x-python",
   "name": "python",
   "nbconvert_exporter": "python",
   "pygments_lexer": "ipython3",
   "version": "3.11.5"
  }
 },
 "nbformat": 4,
 "nbformat_minor": 5
}
