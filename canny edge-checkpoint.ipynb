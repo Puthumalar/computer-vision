{
 "cells": [
  {
   "cell_type": "code",
   "execution_count": 1,
   "id": "1f206f22",
   "metadata": {},
   "outputs": [],
   "source": [
    "import cv2\n",
    "import numpy as np"
   ]
  },
  {
   "cell_type": "code",
   "execution_count": 2,
   "id": "1d3039e3",
   "metadata": {},
   "outputs": [],
   "source": [
    "image=cv2.imread(\"C:/Users/SN111/Pictures/poppyflower.jpg\")"
   ]
  },
  {
   "cell_type": "markdown",
   "id": "e375f1ec",
   "metadata": {},
   "source": [
    "# canny edge"
   ]
  },
  {
   "cell_type": "code",
   "execution_count": 4,
   "id": "1b1bca5d",
   "metadata": {},
   "outputs": [],
   "source": [
    "canny=cv2.Canny(image,40,200)"
   ]
  },
  {
   "cell_type": "code",
   "execution_count": null,
   "id": "718070ea",
   "metadata": {},
   "outputs": [],
   "source": [
    "#display\n",
    "cv2.imshow('ORG',image)\n",
    "cv2.imshow('CAN',canny)\n",
    "cv2.waitKey(0)\n",
    "cv2.destroyAllWindows()"
   ]
  },
  {
   "cell_type": "code",
   "execution_count": null,
   "id": "95165d36",
   "metadata": {},
   "outputs": [],
   "source": []
  }
 ],
 "metadata": {
  "kernelspec": {
   "display_name": "Python 3 (ipykernel)",
   "language": "python",
   "name": "python3"
  },
  "language_info": {
   "codemirror_mode": {
    "name": "ipython",
    "version": 3
   },
   "file_extension": ".py",
   "mimetype": "text/x-python",
   "name": "python",
   "nbconvert_exporter": "python",
   "pygments_lexer": "ipython3",
   "version": "3.11.5"
  }
 },
 "nbformat": 4,
 "nbformat_minor": 5
}
