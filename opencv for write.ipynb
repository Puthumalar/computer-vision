{
 "cells": [
  {
   "cell_type": "code",
   "execution_count": 1,
   "id": "609eed38",
   "metadata": {},
   "outputs": [],
   "source": [
    "import cv2"
   ]
  },
  {
   "cell_type": "code",
   "execution_count": 2,
   "id": "7c330d23",
   "metadata": {},
   "outputs": [],
   "source": [
    "import numpy as np"
   ]
  },
  {
   "cell_type": "code",
   "execution_count": 3,
   "id": "4da8f100",
   "metadata": {},
   "outputs": [],
   "source": [
    "t=cv2.imread(\"C:/Users/SN111/Pictures/lepord.jpg\")"
   ]
  },
  {
   "cell_type": "code",
   "execution_count": 4,
   "id": "6b0b7a43",
   "metadata": {},
   "outputs": [
    {
     "data": {
      "text/plain": [
       "array([[[ 1,  4,  8],\n",
       "        [ 1,  4,  8],\n",
       "        [ 1,  4,  8],\n",
       "        ...,\n",
       "        [ 0, 13,  9],\n",
       "        [ 0, 13,  9],\n",
       "        [ 0, 13,  9]],\n",
       "\n",
       "       [[ 1,  4,  8],\n",
       "        [ 1,  4,  8],\n",
       "        [ 1,  4,  8],\n",
       "        ...,\n",
       "        [ 0, 13,  9],\n",
       "        [ 0, 13,  9],\n",
       "        [ 0, 13,  9]],\n",
       "\n",
       "       [[ 1,  4,  8],\n",
       "        [ 1,  4,  8],\n",
       "        [ 1,  4,  8],\n",
       "        ...,\n",
       "        [ 0, 13,  9],\n",
       "        [ 0, 13,  9],\n",
       "        [ 0, 13,  9]],\n",
       "\n",
       "       ...,\n",
       "\n",
       "       [[ 3,  7, 18],\n",
       "        [ 3,  7, 18],\n",
       "        [ 3,  7, 18],\n",
       "        ...,\n",
       "        [ 9, 27, 38],\n",
       "        [11, 30, 43],\n",
       "        [12, 31, 46]],\n",
       "\n",
       "       [[ 3,  7, 18],\n",
       "        [ 3,  7, 18],\n",
       "        [ 3,  7, 18],\n",
       "        ...,\n",
       "        [ 6, 20, 32],\n",
       "        [ 9, 25, 38],\n",
       "        [10, 27, 40]],\n",
       "\n",
       "       [[ 2,  6, 17],\n",
       "        [ 2,  6, 17],\n",
       "        [ 2,  6, 17],\n",
       "        ...,\n",
       "        [ 0, 14, 26],\n",
       "        [ 6, 19, 33],\n",
       "        [ 8, 24, 37]]], dtype=uint8)"
      ]
     },
     "execution_count": 4,
     "metadata": {},
     "output_type": "execute_result"
    }
   ],
   "source": [
    "t"
   ]
  },
  {
   "cell_type": "code",
   "execution_count": 7,
   "id": "0b9e5b1a",
   "metadata": {},
   "outputs": [],
   "source": [
    "cv2.imshow(\"show\",t)\n",
    "cv2.waitKey(5000)\n",
    "cv2.destroyAllWindows()"
   ]
  },
  {
   "cell_type": "code",
   "execution_count": 10,
   "id": "707afea3",
   "metadata": {},
   "outputs": [
    {
     "data": {
      "text/plain": [
       "True"
      ]
     },
     "execution_count": 10,
     "metadata": {},
     "output_type": "execute_result"
    }
   ],
   "source": [
    "cv2.imwrite(\"C:/Users/SN111/Desktop/lepord.jpg\",t)"
   ]
  },
  {
   "cell_type": "code",
   "execution_count": 14,
   "id": "0b036ec5",
   "metadata": {},
   "outputs": [],
   "source": [
    "tp=cv2.imread(\"C:/Users/SN111/Pictures/lepord.jpg\",0)"
   ]
  },
  {
   "cell_type": "code",
   "execution_count": 15,
   "id": "9a937caf",
   "metadata": {},
   "outputs": [
    {
     "data": {
      "text/plain": [
       "array([[ 5,  5,  5, ..., 10, 10, 10],\n",
       "       [ 5,  5,  5, ..., 10, 10, 10],\n",
       "       [ 5,  5,  5, ..., 10, 10, 10],\n",
       "       ...,\n",
       "       [10, 10, 10, ..., 28, 32, 33],\n",
       "       [10, 10, 10, ..., 22, 27, 29],\n",
       "       [ 9,  9,  9, ..., 16, 22, 26]], dtype=uint8)"
      ]
     },
     "execution_count": 15,
     "metadata": {},
     "output_type": "execute_result"
    }
   ],
   "source": [
    "tp"
   ]
  },
  {
   "cell_type": "code",
   "execution_count": 18,
   "id": "4b2ef056",
   "metadata": {},
   "outputs": [],
   "source": [
    "cv2.imshow(\"show\",tp)\n",
    "cv2.waitKey(5000)\n",
    "cv2.destroyAllWindows()"
   ]
  },
  {
   "cell_type": "code",
   "execution_count": 19,
   "id": "3b08dd5d",
   "metadata": {},
   "outputs": [
    {
     "data": {
      "text/plain": [
       "True"
      ]
     },
     "execution_count": 19,
     "metadata": {},
     "output_type": "execute_result"
    }
   ],
   "source": [
    "cv2.imwrite(\"C:/Users/SN111/Desktop/lepord.jpg\",tp)"
   ]
  },
  {
   "cell_type": "code",
   "execution_count": null,
   "id": "4a598abb",
   "metadata": {},
   "outputs": [],
   "source": []
  }
 ],
 "metadata": {
  "kernelspec": {
   "display_name": "Python 3 (ipykernel)",
   "language": "python",
   "name": "python3"
  },
  "language_info": {
   "codemirror_mode": {
    "name": "ipython",
    "version": 3
   },
   "file_extension": ".py",
   "mimetype": "text/x-python",
   "name": "python",
   "nbconvert_exporter": "python",
   "pygments_lexer": "ipython3",
   "version": "3.11.5"
  }
 },
 "nbformat": 4,
 "nbformat_minor": 5
}
