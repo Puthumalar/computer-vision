{
 "cells": [
  {
   "cell_type": "code",
   "execution_count": 42,
   "id": "05b271fc",
   "metadata": {},
   "outputs": [],
   "source": [
    "import cv2\n",
    "import numpy as np"
   ]
  },
  {
   "cell_type": "code",
   "execution_count": 43,
   "id": "6a5828e7",
   "metadata": {},
   "outputs": [],
   "source": [
    "im2=cv2.imread(\"C:/Users/SN111/Pictures/zootopia.jfif\")"
   ]
  },
  {
   "cell_type": "code",
   "execution_count": 44,
   "id": "1124f04d",
   "metadata": {},
   "outputs": [
    {
     "data": {
      "text/plain": [
       "array([[[130, 139, 153],\n",
       "        [121, 130, 144],\n",
       "        [105, 114, 128],\n",
       "        ...,\n",
       "        [254, 254, 254],\n",
       "        [254, 254, 254],\n",
       "        [254, 254, 254]],\n",
       "\n",
       "       [[134, 143, 157],\n",
       "        [125, 134, 148],\n",
       "        [109, 118, 132],\n",
       "        ...,\n",
       "        [254, 254, 254],\n",
       "        [254, 254, 254],\n",
       "        [254, 254, 254]],\n",
       "\n",
       "       [[139, 148, 162],\n",
       "        [130, 139, 153],\n",
       "        [114, 123, 137],\n",
       "        ...,\n",
       "        [254, 254, 254],\n",
       "        [254, 254, 254],\n",
       "        [254, 254, 254]],\n",
       "\n",
       "       ...,\n",
       "\n",
       "       [[ 62,  62, 102],\n",
       "        [ 58,  58,  98],\n",
       "        [ 54,  54,  94],\n",
       "        ...,\n",
       "        [ 87,  88, 168],\n",
       "        [ 82,  84, 162],\n",
       "        [ 78,  80, 158]],\n",
       "\n",
       "       [[ 67,  67, 107],\n",
       "        [ 63,  63, 103],\n",
       "        [ 59,  60,  98],\n",
       "        ...,\n",
       "        [105, 107, 185],\n",
       "        [101, 103, 181],\n",
       "        [ 97,  99, 177]],\n",
       "\n",
       "       [[ 71,  71, 111],\n",
       "        [ 67,  67, 107],\n",
       "        [ 63,  64, 102],\n",
       "        ...,\n",
       "        [115, 117, 195],\n",
       "        [111, 113, 191],\n",
       "        [108, 110, 188]]], dtype=uint8)"
      ]
     },
     "execution_count": 44,
     "metadata": {},
     "output_type": "execute_result"
    }
   ],
   "source": [
    "im1"
   ]
  },
  {
   "cell_type": "markdown",
   "id": "072051ec",
   "metadata": {},
   "source": [
    "im1"
   ]
  },
  {
   "cell_type": "code",
   "execution_count": 48,
   "id": "9c31852c",
   "metadata": {},
   "outputs": [],
   "source": [
    "shp=im1.shape"
   ]
  },
  {
   "cell_type": "code",
   "execution_count": 49,
   "id": "8560e018",
   "metadata": {},
   "outputs": [
    {
     "data": {
      "text/plain": [
       "(2160, 3840, 3)"
      ]
     },
     "execution_count": 49,
     "metadata": {},
     "output_type": "execute_result"
    }
   ],
   "source": [
    "shp"
   ]
  },
  {
   "cell_type": "code",
   "execution_count": 50,
   "id": "bfbb553c",
   "metadata": {},
   "outputs": [],
   "source": [
    "size=im1.size"
   ]
  },
  {
   "cell_type": "code",
   "execution_count": 52,
   "id": "abc9c1b5",
   "metadata": {},
   "outputs": [
    {
     "data": {
      "text/plain": [
       "24883200"
      ]
     },
     "execution_count": 52,
     "metadata": {},
     "output_type": "execute_result"
    }
   ],
   "source": [
    "size"
   ]
  },
  {
   "cell_type": "code",
   "execution_count": 53,
   "id": "eb8523d2",
   "metadata": {},
   "outputs": [],
   "source": [
    "im1_resized=cv2.resize(im1,(250,250))"
   ]
  },
  {
   "cell_type": "code",
   "execution_count": 54,
   "id": "e1921647",
   "metadata": {},
   "outputs": [
    {
     "data": {
      "text/plain": [
       "array([[[108, 117, 131],\n",
       "        [107, 117, 134],\n",
       "        [112, 119, 138],\n",
       "        ...,\n",
       "        [255, 255, 255],\n",
       "        [255, 255, 255],\n",
       "        [255, 255, 255]],\n",
       "\n",
       "       [[109, 119, 132],\n",
       "        [109, 119, 136],\n",
       "        [112, 119, 138],\n",
       "        ...,\n",
       "        [255, 255, 255],\n",
       "        [255, 255, 255],\n",
       "        [255, 255, 255]],\n",
       "\n",
       "       [[118, 127, 141],\n",
       "        [105, 115, 132],\n",
       "        [112, 119, 138],\n",
       "        ...,\n",
       "        [255, 255, 255],\n",
       "        [255, 255, 255],\n",
       "        [255, 255, 255]],\n",
       "\n",
       "       ...,\n",
       "\n",
       "       [[ 44,  44,  89],\n",
       "        [ 45,  44,  84],\n",
       "        [ 47,  45,  81],\n",
       "        ...,\n",
       "        [ 96, 107, 205],\n",
       "        [ 95, 103, 205],\n",
       "        [ 90,  90, 191]],\n",
       "\n",
       "       [[ 48,  47,  90],\n",
       "        [ 47,  46,  86],\n",
       "        [ 48,  44,  79],\n",
       "        ...,\n",
       "        [ 94, 107, 205],\n",
       "        [ 88,  97, 195],\n",
       "        [ 83,  87, 182]],\n",
       "\n",
       "       [[ 50,  50,  89],\n",
       "        [ 50,  49,  88],\n",
       "        [ 52,  48,  83],\n",
       "        ...,\n",
       "        [ 97, 106, 193],\n",
       "        [ 89,  93, 181],\n",
       "        [ 81,  83, 167]]], dtype=uint8)"
      ]
     },
     "execution_count": 54,
     "metadata": {},
     "output_type": "execute_result"
    }
   ],
   "source": [
    "im1_resized"
   ]
  },
  {
   "cell_type": "code",
   "execution_count": 55,
   "id": "afed7949",
   "metadata": {},
   "outputs": [
    {
     "name": "stdout",
     "output_type": "stream",
     "text": [
      "(250, 250, 3)\n"
     ]
    }
   ],
   "source": [
    "print(im1_resized.shape)"
   ]
  },
  {
   "cell_type": "code",
   "execution_count": 56,
   "id": "39f1848d",
   "metadata": {},
   "outputs": [],
   "source": [
    "show=cv2.imshow(\"image1\",im1)\n",
    "show=cv2.imshow(\"image2\",im1_resized)\n",
    "cv2.waitKey(0)\n",
    "cv2.destroyAllWindows()"
   ]
  },
  {
   "cell_type": "code",
   "execution_count": 58,
   "id": "701347d3",
   "metadata": {},
   "outputs": [],
   "source": [
    "colours_availablity=[i for i in dir(cv2)if i.startswith(\"COLOR_BGR\")]"
   ]
  },
  {
   "cell_type": "code",
   "execution_count": 60,
   "id": "325e9458",
   "metadata": {},
   "outputs": [
    {
     "name": "stdout",
     "output_type": "stream",
     "text": [
      "['COLOR_BGR2BGR555', 'COLOR_BGR2BGR565', 'COLOR_BGR2BGRA', 'COLOR_BGR2GRAY', 'COLOR_BGR2HLS', 'COLOR_BGR2HLS_FULL', 'COLOR_BGR2HSV', 'COLOR_BGR2HSV_FULL', 'COLOR_BGR2LAB', 'COLOR_BGR2LUV', 'COLOR_BGR2Lab', 'COLOR_BGR2Luv', 'COLOR_BGR2RGB', 'COLOR_BGR2RGBA', 'COLOR_BGR2XYZ', 'COLOR_BGR2YCR_CB', 'COLOR_BGR2YCrCb', 'COLOR_BGR2YUV', 'COLOR_BGR2YUV_I420', 'COLOR_BGR2YUV_IYUV', 'COLOR_BGR2YUV_UYNV', 'COLOR_BGR2YUV_UYVY', 'COLOR_BGR2YUV_Y422', 'COLOR_BGR2YUV_YUNV', 'COLOR_BGR2YUV_YUY2', 'COLOR_BGR2YUV_YUYV', 'COLOR_BGR2YUV_YV12', 'COLOR_BGR2YUV_YVYU', 'COLOR_BGR5552BGR', 'COLOR_BGR5552BGRA', 'COLOR_BGR5552GRAY', 'COLOR_BGR5552RGB', 'COLOR_BGR5552RGBA', 'COLOR_BGR5652BGR', 'COLOR_BGR5652BGRA', 'COLOR_BGR5652GRAY', 'COLOR_BGR5652RGB', 'COLOR_BGR5652RGBA', 'COLOR_BGRA2BGR', 'COLOR_BGRA2BGR555', 'COLOR_BGRA2BGR565', 'COLOR_BGRA2GRAY', 'COLOR_BGRA2RGB', 'COLOR_BGRA2RGBA', 'COLOR_BGRA2YUV_I420', 'COLOR_BGRA2YUV_IYUV', 'COLOR_BGRA2YUV_UYNV', 'COLOR_BGRA2YUV_UYVY', 'COLOR_BGRA2YUV_Y422', 'COLOR_BGRA2YUV_YUNV', 'COLOR_BGRA2YUV_YUY2', 'COLOR_BGRA2YUV_YUYV', 'COLOR_BGRA2YUV_YV12', 'COLOR_BGRA2YUV_YVYU']\n"
     ]
    }
   ],
   "source": [
    "print(colours_availablity)"
   ]
  },
  {
   "cell_type": "code",
   "execution_count": 62,
   "id": "e8490d99",
   "metadata": {},
   "outputs": [],
   "source": [
    "im3=cv2.cvtColor(im1,cv2.COLOR_BGR2HSV)"
   ]
  },
  {
   "cell_type": "code",
   "execution_count": 63,
   "id": "437b93c0",
   "metadata": {},
   "outputs": [],
   "source": [
    "cv2.imshow(\"im1\",im1)\n",
    "cv2.imshow(\"im2\",im3)\n",
    "cv2.waitKey(0)\n",
    "cv2.destroyAllWindows()"
   ]
  },
  {
   "cell_type": "code",
   "execution_count": null,
   "id": "dad35f30",
   "metadata": {},
   "outputs": [],
   "source": []
  }
 ],
 "metadata": {
  "kernelspec": {
   "display_name": "Python 3 (ipykernel)",
   "language": "python",
   "name": "python3"
  },
  "language_info": {
   "codemirror_mode": {
    "name": "ipython",
    "version": 3
   },
   "file_extension": ".py",
   "mimetype": "text/x-python",
   "name": "python",
   "nbconvert_exporter": "python",
   "pygments_lexer": "ipython3",
   "version": "3.11.5"
  }
 },
 "nbformat": 4,
 "nbformat_minor": 5
}
