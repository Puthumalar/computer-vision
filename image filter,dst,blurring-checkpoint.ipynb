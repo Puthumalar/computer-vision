{
 "cells": [
  {
   "cell_type": "code",
   "execution_count": 1,
   "id": "6ad89378",
   "metadata": {},
   "outputs": [],
   "source": [
    "import cv2 as cv\n",
    "import matplotlib.pyplot as plt\n",
    "import numpy as np"
   ]
  },
  {
   "cell_type": "code",
   "execution_count": null,
   "id": "0c5e34d3",
   "metadata": {},
   "outputs": [],
   "source": [
    "img=cv.imread('C:/Users/SN111/Pictures/Dalmatian-puppy.jpg')\n",
    "kernal=np.ones((3,3),np.float32)/9\n",
    "dst=cv.filter2D(img,-1,kernal)\n",
    "cv.imshow('image',img)\n",
    "cv.imshow('dst',dst)\n",
    "cv.waitKey(0)\n",
    "destroyAllWindows()"
   ]
  },
  {
   "cell_type": "code",
   "execution_count": 3,
   "id": "792ca66f",
   "metadata": {},
   "outputs": [],
   "source": [
    "img=cv.imread('C:/Users/SN111/Pictures/Dalmatian-puppy.jpg')\n",
    "#print(img)\n",
    "kernal=np.ones((5,5),np.float32)/25\n",
    "filter=cv.filter2D(img,-1,kernal)\n",
    "cv.imshow('image',img)\n",
    "cv.imshow('filter2d',filter)\n",
    "cv.waitKey(0)\n",
    "cv.destroyAllWindows()"
   ]
  },
  {
   "cell_type": "code",
   "execution_count": null,
   "id": "9553d9a3",
   "metadata": {},
   "outputs": [],
   "source": [
    "img=cv.imread('C:/Users/SN111/Pictures/puppy.jfif')\n",
    "blur=cv.blur(img,(5,5))\n",
    "cv.imshow('image',img)\n",
    "cv.imshow('blur',blur)\n",
    "cv.waitKey(0)\n",
    "cv.destroyAllWindows()"
   ]
  },
  {
   "cell_type": "markdown",
   "id": "a1867473",
   "metadata": {},
   "source": [
    "# gaussian blur\n"
   ]
  },
  {
   "cell_type": "code",
   "execution_count": null,
   "id": "9488d408",
   "metadata": {},
   "outputs": [],
   "source": [
    "img=cv.imread('C:/Users/SN111/Pictures/zootopia.jfif')\n",
    "Gblur=cv.GaussianBlur(img,(5,5),0)\n",
    "cv.imshow('image',img)\n",
    "cv.imshow('Gaussianblur',Gblur)\n",
    "cv.waitKey(0)\n",
    "cv.destroyAllWindows()"
   ]
  },
  {
   "cell_type": "code",
   "execution_count": null,
   "id": "92288d2c",
   "metadata": {},
   "outputs": [
    {
     "name": "stdout",
     "output_type": "stream",
     "text": [
      "(1080, 1920, 3)\n"
     ]
    }
   ],
   "source": [
    "# noise filter\n",
    "img=cv.imread('C:/Users/SN111/Pictures/noise.jfif')\n",
    "print(img.shape)\n",
    "BFilter=cv.bilateralFilter(img,9,50,50)\n",
    "cv.imshow('image',img)\n",
    "cv.imshow('bilateralFilter',BFilter)\n",
    "cv.waitKey(0)\n",
    "cv.destroyAllWindows()"
   ]
  },
  {
   "cell_type": "code",
   "execution_count": null,
   "id": "09204ee5",
   "metadata": {},
   "outputs": [],
   "source": [
    "#mediam filter\n",
    "img=cv.imread('C:/Users/SN111/Pictures/apple.png')\n",
    "medianFilter=cv.medianBlur(img,5)\n",
    "cv.imshow('image',img)\n",
    "cv.imshow('medianBlur',medianFilter)\n",
    "cv.waitKey(0)\n",
    "cv.destroyAllWindows()"
   ]
  },
  {
   "cell_type": "code",
   "execution_count": null,
   "id": "1bc3b789",
   "metadata": {},
   "outputs": [],
   "source": []
  }
 ],
 "metadata": {
  "kernelspec": {
   "display_name": "Python 3 (ipykernel)",
   "language": "python",
   "name": "python3"
  },
  "language_info": {
   "codemirror_mode": {
    "name": "ipython",
    "version": 3
   },
   "file_extension": ".py",
   "mimetype": "text/x-python",
   "name": "python",
   "nbconvert_exporter": "python",
   "pygments_lexer": "ipython3",
   "version": "3.11.5"
  }
 },
 "nbformat": 4,
 "nbformat_minor": 5
}
