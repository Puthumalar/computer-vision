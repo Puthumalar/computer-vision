{
 "cells": [
  {
   "cell_type": "code",
   "execution_count": 1,
   "id": "6ad89378",
   "metadata": {},
   "outputs": [],
   "source": [
    "import cv2 as cv\n",
    "import matplotlib.pyplot as plt\n",
    "import numpy as np"
   ]
  },
  {
   "cell_type": "code",
   "execution_count": null,
   "id": "0c5e34d3",
   "metadata": {},
   "outputs": [],
   "source": [
    "img=cv.imread('C:/Users/SN111/Pictures/Dalmatian-puppy.jpg')\n",
    "kernal=np.ones((3,3),np.float32)/9\n",
    "dst=cv.filter2D(img,-1,kernal)\n",
    "cv.imshow('image',img)\n",
    "cv.imshow('dst',dst)\n",
    "cv.waitKey(0)\n",
    "destroyAllWindows()"
   ]
  },
  {
   "cell_type": "code",
   "execution_count": 3,
   "id": "792ca66f",
   "metadata": {},
   "outputs": [],
   "source": [
    "img=cv.imread('C:/Users/SN111/Pictures/Dalmatian-puppy.jpg')\n",
    "#print(img)\n",
    "kernal=np.ones((5,5),np.float32)/25\n",
    "filter=cv.filter2D(img,-1,kernal)\n",
    "cv.imshow('image',img)\n",
    "cv.imshow('filter2d',filter)\n",
    "cv.waitKey(0)\n",
    "cv.destroyAllWindows()"
   ]
  },
  {
   "cell_type": "code",
   "execution_count": null,
   "id": "9553d9a3",
   "metadata": {},
   "outputs": [],
   "source": [
    "img=cv.imread('C:/Users/SN111/Pictures/puppy.jfif')\n",
    "blur=cv.blur(img,(5,5))\n",
    "cv.imshow('image',img)\n",
    "cv.imshow('blur',blur)\n",
    "cv.waitKey(0)\n",
    "cv.destroyAllWindows()"
   ]
  },
  {
   "cell_type": "markdown",
   "id": "a1867473",
   "metadata": {},
   "source": [
    "# gaussian blur\n"
   ]
  },
  {
   "cell_type": "code",
   "execution_count": null,
   "id": "9488d408",
   "metadata": {},
   "outputs": [],
   "source": [
    "img=cv.imread('C:/Users/SN111/Pictures/zootopia.jfif')\n",
    "Gblur=cv.GaussianBlur(img,(5,5),0)\n",
    "cv.imshow('image',img)\n",
    "cv.imshow('Gaussianblur',Gblur)\n",
    "cv.waitKey(0)\n",
    "cv.destroyAllWindows()"
   ]
  },
  {
   "cell_type": "code",
   "execution_count": null,
   "id": "92288d2c",
   "metadata": {},
   "outputs": [
    {
     "name": "stdout",
     "output_type": "stream",
     "text": [
      "(1080, 1920, 3)\n"
     ]
    }
   ],
   "source": [
    "# noise filter bilateral \n",
    "img=cv.imread('C:/Users/SN111/Pictures/noise.jfif')\n",
    "print(img.shape)\n",
    "BFilter=cv.bilateralFilter(img,9,50,50)\n",
    "cv.imshow('image',img)\n",
    "cv.imshow('bilateralFilter',BFilter)\n",
    "cv.waitKey(0)\n",
    "cv.destroyAllWindows()"
   ]
  },
  {
   "cell_type": "code",
   "execution_count": null,
   "id": "09204ee5",
   "metadata": {},
   "outputs": [],
   "source": [
    "#mediam filter\n",
    "img=cv.imread('C:/Users/SN111/Pictures/apple.png')\n",
    "medianFilter=cv.medianBlur(img,5)\n",
    "cv.imshow('image',img)\n",
    "cv.imshow('medianBlur',medianFilter)\n",
    "cv.waitKey(0)\n",
    "cv.destroyAllWindows()"
   ]
  },
  {
   "cell_type": "code",
   "execution_count": 4,
   "id": "1bc3b789",
   "metadata": {},
   "outputs": [
    {
     "data": {
      "text/plain": [
       "array([[ 42,  43,  43, ..., 248, 248, 247],\n",
       "       [ 42,  42,  42, ..., 248, 248, 247],\n",
       "       [ 42,  41,  40, ..., 248, 247, 247],\n",
       "       ...,\n",
       "       [132, 129, 128, ..., 205, 204, 202],\n",
       "       [133, 129, 128, ..., 204, 202, 201],\n",
       "       [134, 129, 128, ..., 203, 201, 199]], dtype=uint8)"
      ]
     },
     "execution_count": 4,
     "metadata": {},
     "output_type": "execute_result"
    }
   ],
   "source": [
    "#laplacian filter\n",
    "img=cv.imread('C:/Users/SN111/Pictures/puppy.jfif',0)\n",
    "img"
   ]
  },
  {
   "cell_type": "code",
   "execution_count": 14,
   "id": "aefda4a0",
   "metadata": {
    "scrolled": true
   },
   "outputs": [
    {
     "data": {
      "text/plain": [
       "array([[  0.,  -8.,  -8., ...,   4.,  -4.,   8.],\n",
       "       [  0.,  -2.,   0., ...,   0.,  -4.,   4.],\n",
       "       [ -4.,   2.,   8., ...,   0.,   2.,   4.],\n",
       "       ...,\n",
       "       [-24.,  10.,  12., ...,  -8.,  -2.,  12.],\n",
       "       [-32.,  12.,  14., ...,  -6.,   2.,  12.],\n",
       "       [-40.,  12.,  16., ...,   0.,  12.,  24.]])"
      ]
     },
     "execution_count": 14,
     "metadata": {},
     "output_type": "execute_result"
    }
   ],
   "source": [
    "img=cv.imread('C:/Users/SN111/Pictures/puppy.jfif',0)\n",
    "lap=cv.Laplacian(img,cv.CV_64F,ksize=3)\n",
    "lap"
   ]
  },
  {
   "cell_type": "code",
   "execution_count": null,
   "id": "04a53e36",
   "metadata": {},
   "outputs": [],
   "source": [
    "img=cv.imread('C:/Users/SN111/Pictures/puppy.jfif',0)\n",
    "lap=cv.Laplacian(img,cv.CV_64F,ksize=3)\n",
    "cv.imshow('image',img)\n",
    "cv.imshow('laplacian',lap)\n",
    "cv.waitKey(0)\n",
    "cv.destroyAllWindows()"
   ]
  },
  {
   "cell_type": "code",
   "execution_count": null,
   "id": "05541373",
   "metadata": {},
   "outputs": [],
   "source": [
    "#absolute\n",
    "img=cv.imread('C:/Users/SN111/Pictures/puppy.jfif',0)\n",
    "lap=cv.Laplacian(img,cv.CV_64F,ksize=3)\n",
    "lap=np.uint8(np.absolute(lap))\n",
    "cv.imshow('image',img)\n",
    "cv.imshow('laplacian',lap)\n",
    "cv.waitKey(0)\n",
    "cv.destroyAllWindows()"
   ]
  },
  {
   "cell_type": "code",
   "execution_count": null,
   "id": "3f8249de",
   "metadata": {},
   "outputs": [
    {
     "name": "stdout",
     "output_type": "stream",
     "text": [
      "[[  0.  -6. -10. ...  28.  20.   0.]\n",
      " [  0.  -8. -13. ...  31.  23.   0.]\n",
      " [  0. -12. -19. ...  37.  30.   0.]\n",
      " ...\n",
      " [  0. -20. -35. ... -32.   0.   0.]\n",
      " [  0. -54. -53. ... -38.  -7.   0.]\n",
      " [  0. -84. -70. ... -36.  -6.   0.]]\n"
     ]
    }
   ],
   "source": [
    "#sobel filter\n",
    "img=cv.imread('C:/Users/SN111/Pictures/Dalmatian-puppy.jpg',0)\n",
    "sobelx=cv.Sobel(img,cv.CV_64F,1,0,ksize=3)\n",
    "print(sobelx)\n",
    "cv.imshow('image',img)\n",
    "cv.waitKey(0)\n",
    "cv.destroyAllWindows()\n"
   ]
  },
  {
   "cell_type": "code",
   "execution_count": null,
   "id": "ebe3871c",
   "metadata": {},
   "outputs": [],
   "source": [
    "img=cv.imread('C:/Users/SN111/Pictures/Dalmatian-puppy.jpg',0)\n",
    "sobelx=cv.Sobel(img,cv.CV_64F,1,0,ksize=3)\n",
    "cv.imshow('image',img)\n",
    "cv.imshow('sobelx',sobelx)\n",
    "cv.waitKey(0)\n",
    "cv.destroyAllWindows()\n"
   ]
  },
  {
   "cell_type": "code",
   "execution_count": null,
   "id": "80664ff0",
   "metadata": {},
   "outputs": [],
   "source": [
    "img=cv.imread('C:/Users/SN111/Pictures/Dalmatian-puppy.jpg',0)\n",
    "sobelx=cv.Sobel(img,cv.CV_64F,1,0,ksize=3)\n",
    "sobelx=np.uint8(np.absolute(sobelx))\n",
    "cv.imshow('image',img)\n",
    "cv.imshow('sobelx',sobelx)\n",
    "cv.waitKey(0)\n",
    "cv.destroyAllWindows()"
   ]
  },
  {
   "cell_type": "code",
   "execution_count": null,
   "id": "6a0d6665",
   "metadata": {},
   "outputs": [],
   "source": [
    "img=cv.imread('C:/Users/SN111/Pictures/Dalmatian-puppy.jpg',0)\n",
    "sobely=cv.Sobel(img,cv.CV_64F,0,1,ksize=3)\n",
    "sobely=np.uint8(np.absolute(sobely))\n",
    "cv.imshow('image',img)\n",
    "cv.imshow('sobely',sobely)\n",
    "cv.waitKey(0)\n",
    "cv.destroyAllWindows()"
   ]
  },
  {
   "cell_type": "code",
   "execution_count": null,
   "id": "18efeeaa",
   "metadata": {},
   "outputs": [],
   "source": []
  }
 ],
 "metadata": {
  "kernelspec": {
   "display_name": "Python 3 (ipykernel)",
   "language": "python",
   "name": "python3"
  },
  "language_info": {
   "codemirror_mode": {
    "name": "ipython",
    "version": 3
   },
   "file_extension": ".py",
   "mimetype": "text/x-python",
   "name": "python",
   "nbconvert_exporter": "python",
   "pygments_lexer": "ipython3",
   "version": "3.11.5"
  }
 },
 "nbformat": 4,
 "nbformat_minor": 5
}
