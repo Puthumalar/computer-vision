{
 "cells": [
  {
   "cell_type": "markdown",
   "id": "18d1d9a9",
   "metadata": {},
   "source": [
    "# Image Rotation And Translation "
   ]
  },
  {
   "cell_type": "code",
   "execution_count": 1,
   "id": "731d1e16",
   "metadata": {},
   "outputs": [],
   "source": [
    "import cv2\n",
    "import numpy as np"
   ]
  },
  {
   "cell_type": "code",
   "execution_count": 2,
   "id": "46e264d5",
   "metadata": {},
   "outputs": [],
   "source": [
    "im1=cv2.imread(\"C:/Users/SN111/Pictures/puppy.jfif\")"
   ]
  },
  {
   "cell_type": "code",
   "execution_count": 3,
   "id": "d15b00ff",
   "metadata": {},
   "outputs": [
    {
     "data": {
      "text/plain": [
       "array([[[ 12,  27,  83],\n",
       "        [ 13,  28,  84],\n",
       "        [ 15,  29,  82],\n",
       "        ...,\n",
       "        [253, 250, 242],\n",
       "        [253, 250, 242],\n",
       "        [252, 249, 241]],\n",
       "\n",
       "       [[ 12,  27,  83],\n",
       "        [ 12,  27,  83],\n",
       "        [ 14,  28,  81],\n",
       "        ...,\n",
       "        [253, 250, 242],\n",
       "        [253, 250, 242],\n",
       "        [252, 249, 241]],\n",
       "\n",
       "       [[ 14,  28,  81],\n",
       "        [ 13,  27,  80],\n",
       "        [ 12,  26,  79],\n",
       "        ...,\n",
       "        [253, 250, 242],\n",
       "        [252, 249, 241],\n",
       "        [252, 249, 241]],\n",
       "\n",
       "       ...,\n",
       "\n",
       "       [[139, 135, 124],\n",
       "        [136, 132, 121],\n",
       "        [135, 131, 120],\n",
       "        ...,\n",
       "        [210, 207, 199],\n",
       "        [209, 206, 198],\n",
       "        [207, 204, 196]],\n",
       "\n",
       "       [[140, 135, 126],\n",
       "        [136, 131, 122],\n",
       "        [135, 130, 121],\n",
       "        ...,\n",
       "        [209, 206, 198],\n",
       "        [207, 204, 196],\n",
       "        [206, 203, 195]],\n",
       "\n",
       "       [[141, 136, 127],\n",
       "        [136, 131, 122],\n",
       "        [135, 130, 121],\n",
       "        ...,\n",
       "        [208, 205, 197],\n",
       "        [206, 203, 195],\n",
       "        [204, 201, 193]]], dtype=uint8)"
      ]
     },
     "execution_count": 3,
     "metadata": {},
     "output_type": "execute_result"
    }
   ],
   "source": [
    "im1"
   ]
  },
  {
   "cell_type": "code",
   "execution_count": 4,
   "id": "ecb3bda9",
   "metadata": {},
   "outputs": [
    {
     "name": "stdout",
     "output_type": "stream",
     "text": [
      "(1600, 2560, 3)\n"
     ]
    }
   ],
   "source": [
    "shp=im1.shape\n",
    "print(shp)"
   ]
  },
  {
   "cell_type": "code",
   "execution_count": 5,
   "id": "79bef9bc",
   "metadata": {},
   "outputs": [
    {
     "name": "stdout",
     "output_type": "stream",
     "text": [
      "1600\n",
      "2560\n"
     ]
    }
   ],
   "source": [
    "height,width=im1.shape[:2]\n",
    "print(height)\n",
    "print(width)"
   ]
  },
  {
   "cell_type": "code",
   "execution_count": 6,
   "id": "3abcedf6",
   "metadata": {},
   "outputs": [
    {
     "data": {
      "text/plain": [
       "(800.0, 1280.0)"
      ]
     },
     "execution_count": 6,
     "metadata": {},
     "output_type": "execute_result"
    }
   ],
   "source": [
    "cent=(height/2,width/2)\n",
    "cent"
   ]
  },
  {
   "cell_type": "code",
   "execution_count": 7,
   "id": "21695bc2",
   "metadata": {},
   "outputs": [],
   "source": [
    "rotation_matrix=cv2.getRotationMatrix2D(center=cent,angle=25,scale=0.5)"
   ]
  },
  {
   "cell_type": "code",
   "execution_count": 8,
   "id": "6b18189e",
   "metadata": {},
   "outputs": [
    {
     "name": "stdout",
     "output_type": "stream",
     "text": [
      "[[ 4.53153894e-01  2.11309131e-01  1.67001198e+02]\n",
      " [-2.11309131e-01  4.53153894e-01  8.69010321e+02]]\n"
     ]
    }
   ],
   "source": [
    "print(rotation_matrix)"
   ]
  },
  {
   "cell_type": "code",
   "execution_count": 10,
   "id": "832464f1",
   "metadata": {},
   "outputs": [],
   "source": [
    "rotated_im=cv2.warpAffine(src=im1,M=rotation_matrix,dsize=(width,height))"
   ]
  },
  {
   "cell_type": "code",
   "execution_count": 11,
   "id": "587dd3e0",
   "metadata": {},
   "outputs": [],
   "source": [
    "cv2.imshow('original image',im1)\n",
    "cv2.waitKey(0)\n",
    "cv2.imshow('Rotated image',rotated_im)\n",
    "cv2.waitKey(0)\n",
    "cv2.destroyAllWindows()"
   ]
  },
  {
   "cell_type": "markdown",
   "id": "ed1aa753",
   "metadata": {},
   "source": [
    "# Translation Matrix"
   ]
  },
  {
   "cell_type": "code",
   "execution_count": 13,
   "id": "49ad3922",
   "metadata": {},
   "outputs": [],
   "source": [
    "tx,ty=width/2,height/2"
   ]
  },
  {
   "cell_type": "code",
   "execution_count": 18,
   "id": "982397fa",
   "metadata": {},
   "outputs": [],
   "source": [
    "Translation_matrix=np.array([[1,0,tx],[0,1,ty]])"
   ]
  },
  {
   "cell_type": "code",
   "execution_count": 19,
   "id": "7d7762ed",
   "metadata": {},
   "outputs": [
    {
     "data": {
      "text/plain": [
       "array([[1.00e+00, 0.00e+00, 1.28e+03],\n",
       "       [0.00e+00, 1.00e+00, 8.00e+02]])"
      ]
     },
     "execution_count": 19,
     "metadata": {},
     "output_type": "execute_result"
    }
   ],
   "source": [
    "Translation_matrix"
   ]
  },
  {
   "cell_type": "code",
   "execution_count": 24,
   "id": "5017079d",
   "metadata": {},
   "outputs": [],
   "source": [
    "Trans_im1=cv2.warpAffine(src=im1,M=rotation_matrix,dsize=(width,height))"
   ]
  },
  {
   "cell_type": "code",
   "execution_count": 25,
   "id": "4097d402",
   "metadata": {},
   "outputs": [],
   "source": [
    "cv2.imshow('original image',im1)\n",
    "cv2.waitKey(0)\n",
    "cv2.imshow('Transimage',rotated_im)\n",
    "cv2.waitKey(0)\n",
    "cv2.destroyAllWindows()"
   ]
  },
  {
   "cell_type": "code",
   "execution_count": null,
   "id": "cecd480a",
   "metadata": {},
   "outputs": [],
   "source": []
  }
 ],
 "metadata": {
  "kernelspec": {
   "display_name": "Python 3 (ipykernel)",
   "language": "python",
   "name": "python3"
  },
  "language_info": {
   "codemirror_mode": {
    "name": "ipython",
    "version": 3
   },
   "file_extension": ".py",
   "mimetype": "text/x-python",
   "name": "python",
   "nbconvert_exporter": "python",
   "pygments_lexer": "ipython3",
   "version": "3.11.5"
  }
 },
 "nbformat": 4,
 "nbformat_minor": 5
}
