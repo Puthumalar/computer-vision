{
 "cells": [
  {
   "cell_type": "code",
   "execution_count": 1,
   "id": "071403ee",
   "metadata": {},
   "outputs": [],
   "source": [
    "import numpy "
   ]
  },
  {
   "cell_type": "code",
   "execution_count": 2,
   "id": "7bc8bf5c",
   "metadata": {},
   "outputs": [],
   "source": [
    "import cv2"
   ]
  },
  {
   "cell_type": "code",
   "execution_count": 3,
   "id": "3ff4ede2",
   "metadata": {},
   "outputs": [],
   "source": [
    "import numpy as np"
   ]
  },
  {
   "cell_type": "code",
   "execution_count": 29,
   "id": "92275c3c",
   "metadata": {},
   "outputs": [],
   "source": [
    "t=cv2.imread(\"C:/Users/SN111/Pictures/lepord.jpg\")"
   ]
  },
  {
   "cell_type": "code",
   "execution_count": 30,
   "id": "0a23065f",
   "metadata": {},
   "outputs": [
    {
     "data": {
      "text/plain": [
       "array([[[ 1,  4,  8],\n",
       "        [ 1,  4,  8],\n",
       "        [ 1,  4,  8],\n",
       "        ...,\n",
       "        [ 0, 13,  9],\n",
       "        [ 0, 13,  9],\n",
       "        [ 0, 13,  9]],\n",
       "\n",
       "       [[ 1,  4,  8],\n",
       "        [ 1,  4,  8],\n",
       "        [ 1,  4,  8],\n",
       "        ...,\n",
       "        [ 0, 13,  9],\n",
       "        [ 0, 13,  9],\n",
       "        [ 0, 13,  9]],\n",
       "\n",
       "       [[ 1,  4,  8],\n",
       "        [ 1,  4,  8],\n",
       "        [ 1,  4,  8],\n",
       "        ...,\n",
       "        [ 0, 13,  9],\n",
       "        [ 0, 13,  9],\n",
       "        [ 0, 13,  9]],\n",
       "\n",
       "       ...,\n",
       "\n",
       "       [[ 3,  7, 18],\n",
       "        [ 3,  7, 18],\n",
       "        [ 3,  7, 18],\n",
       "        ...,\n",
       "        [ 9, 27, 38],\n",
       "        [11, 30, 43],\n",
       "        [12, 31, 46]],\n",
       "\n",
       "       [[ 3,  7, 18],\n",
       "        [ 3,  7, 18],\n",
       "        [ 3,  7, 18],\n",
       "        ...,\n",
       "        [ 6, 20, 32],\n",
       "        [ 9, 25, 38],\n",
       "        [10, 27, 40]],\n",
       "\n",
       "       [[ 2,  6, 17],\n",
       "        [ 2,  6, 17],\n",
       "        [ 2,  6, 17],\n",
       "        ...,\n",
       "        [ 0, 14, 26],\n",
       "        [ 6, 19, 33],\n",
       "        [ 8, 24, 37]]], dtype=uint8)"
      ]
     },
     "execution_count": 30,
     "metadata": {},
     "output_type": "execute_result"
    }
   ],
   "source": [
    "t"
   ]
  },
  {
   "cell_type": "code",
   "execution_count": 17,
   "id": "1ebe954b",
   "metadata": {},
   "outputs": [],
   "source": [
    "cv2.imshow(\"show\",t)\n",
    "cv2.waitKey(5000)\n",
    "cv2.destroyAllWindows()"
   ]
  },
  {
   "cell_type": "code",
   "execution_count": null,
   "id": "c9d33d8e",
   "metadata": {},
   "outputs": [],
   "source": []
  }
 ],
 "metadata": {
  "kernelspec": {
   "display_name": "Python 3 (ipykernel)",
   "language": "python",
   "name": "python3"
  },
  "language_info": {
   "codemirror_mode": {
    "name": "ipython",
    "version": 3
   },
   "file_extension": ".py",
   "mimetype": "text/x-python",
   "name": "python",
   "nbconvert_exporter": "python",
   "pygments_lexer": "ipython3",
   "version": "3.11.5"
  }
 },
 "nbformat": 4,
 "nbformat_minor": 5
}
