{
 "cells": [
  {
   "cell_type": "code",
   "execution_count": 1,
   "id": "87915118",
   "metadata": {},
   "outputs": [],
   "source": [
    "import cv2\n",
    "import numpy as np"
   ]
  },
  {
   "cell_type": "markdown",
   "id": "067a3742",
   "metadata": {},
   "source": [
    "# Region of Intersert"
   ]
  },
  {
   "cell_type": "code",
   "execution_count": null,
   "id": "e8228795",
   "metadata": {},
   "outputs": [],
   "source": [
    "#read\n",
    "image=cv2.imread(\"C:/Users/SN111/Pictures/poppyflower.jpg\")\n",
    "#select ROI\n",
    "r=cv2.selectROI(\"select the area\",image)\n",
    "cropped_image=image[int(r[1]):int(r[1]+r[3]),\n",
    "                   int(r[0]):int(r[0]+r[2])]\n",
    "#dispaly\n",
    "cv2.imshow(\"cropped image\",cropped_image)\n",
    "cv2.waitKey(0)"
   ]
  },
  {
   "cell_type": "code",
   "execution_count": 5,
   "id": "943b3110",
   "metadata": {},
   "outputs": [
    {
     "data": {
      "text/plain": [
       "(720, 900, 3)"
      ]
     },
     "execution_count": 5,
     "metadata": {},
     "output_type": "execute_result"
    }
   ],
   "source": [
    "image.shape\n"
   ]
  },
  {
   "cell_type": "code",
   "execution_count": null,
   "id": "5d5879c5",
   "metadata": {},
   "outputs": [],
   "source": []
  }
 ],
 "metadata": {
  "kernelspec": {
   "display_name": "Python 3 (ipykernel)",
   "language": "python",
   "name": "python3"
  },
  "language_info": {
   "codemirror_mode": {
    "name": "ipython",
    "version": 3
   },
   "file_extension": ".py",
   "mimetype": "text/x-python",
   "name": "python",
   "nbconvert_exporter": "python",
   "pygments_lexer": "ipython3",
   "version": "3.11.5"
  }
 },
 "nbformat": 4,
 "nbformat_minor": 5
}
