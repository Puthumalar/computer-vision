{
 "cells": [
  {
   "cell_type": "markdown",
   "id": "65dd507a",
   "metadata": {},
   "source": [
    "# install imutils"
   ]
  },
  {
   "cell_type": "code",
   "execution_count": 2,
   "id": "b8a03f8f",
   "metadata": {},
   "outputs": [
    {
     "name": "stdout",
     "output_type": "stream",
     "text": [
      "Collecting imutils\n",
      "  Downloading imutils-0.5.4.tar.gz (17 kB)\n",
      "  Preparing metadata (setup.py): started\n",
      "  Preparing metadata (setup.py): finished with status 'done'\n",
      "Building wheels for collected packages: imutils\n",
      "  Building wheel for imutils (setup.py): started\n",
      "  Building wheel for imutils (setup.py): finished with status 'done'\n",
      "  Created wheel for imutils: filename=imutils-0.5.4-py3-none-any.whl size=25854 sha256=0efb43192693a4536242d3c773e47fa979fbb9743940ec20641679c147b7ba36\n",
      "  Stored in directory: c:\\users\\sn111\\appdata\\local\\pip\\cache\\wheels\\31\\d0\\2c\\87ce38f6052879e5b7b18f0f8b4a10ad2a9d210e908d449f16\n",
      "Successfully built imutils\n",
      "Installing collected packages: imutils\n",
      "Successfully installed imutils-0.5.4\n",
      "Note: you may need to restart the kernel to use updated packages.\n"
     ]
    }
   ],
   "source": [
    "pip install imutils"
   ]
  },
  {
   "cell_type": "code",
   "execution_count": 3,
   "id": "f3f723d0",
   "metadata": {},
   "outputs": [],
   "source": [
    "import cv2\n",
    "import imutils\n"
   ]
  },
  {
   "cell_type": "markdown",
   "id": "84c25966",
   "metadata": {},
   "source": [
    "# initialising the HOG person detector"
   ]
  },
  {
   "cell_type": "code",
   "execution_count": 4,
   "id": "6065e9fd",
   "metadata": {},
   "outputs": [
    {
     "data": {
      "text/plain": [
       "< cv2.HOGDescriptor 00000192E878B450>"
      ]
     },
     "execution_count": 4,
     "metadata": {},
     "output_type": "execute_result"
    }
   ],
   "source": [
    "hog=cv2.HOGDescriptor()\n",
    "hog.setSVMDetector(cv2.HOGDescriptor_getDefaultPeopleDetector())\n",
    "hog"
   ]
  },
  {
   "cell_type": "code",
   "execution_count": 5,
   "id": "eabcc6dc",
   "metadata": {},
   "outputs": [
    {
     "data": {
      "text/plain": [
       "(1087, 1600, 3)"
      ]
     },
     "execution_count": 5,
     "metadata": {},
     "output_type": "execute_result"
    }
   ],
   "source": [
    "#reading a image\n",
    "image=cv2.imread('C:/Users/SN111/Pictures/people.jfif')\n",
    "image.shape"
   ]
  },
  {
   "cell_type": "code",
   "execution_count": 7,
   "id": "585dc091",
   "metadata": {},
   "outputs": [
    {
     "data": {
      "text/plain": [
       "(271, 400, 3)"
      ]
     },
     "execution_count": 7,
     "metadata": {},
     "output_type": "execute_result"
    }
   ],
   "source": [
    "#resizing the image\n",
    "image=imutils.resize(image,\n",
    "                     width=min(400,image.shape[1]))\n",
    "image.shape\n"
   ]
  },
  {
   "cell_type": "code",
   "execution_count": 9,
   "id": "f7355dc0",
   "metadata": {},
   "outputs": [
    {
     "data": {
      "text/plain": [
       "array([[242,  16,  81, 161],\n",
       "       [230,  29, 101, 203]])"
      ]
     },
     "execution_count": 9,
     "metadata": {},
     "output_type": "execute_result"
    }
   ],
   "source": [
    "#Detecting all the region in the image that has a pedestrians inside it\n",
    "(regions,img)=hog.detectMultiScale(image,\n",
    "                                   winStride=(1,1),\n",
    "                                   padding=(40,40),\n",
    "                                   scale=1.05)\n",
    "regions"
   ]
  },
  {
   "cell_type": "code",
   "execution_count": 11,
   "id": "257b78a9",
   "metadata": {},
   "outputs": [],
   "source": [
    "#drawing the regions in the image\n",
    "for (x,y,w,h) in regions:\n",
    "    cv2.rectangle(image,(x,y),\n",
    "    (x +w,y + h),\n",
    "    (0,255,0),3)"
   ]
  },
  {
   "cell_type": "code",
   "execution_count": null,
   "id": "0867c849",
   "metadata": {},
   "outputs": [],
   "source": [
    "#showing the output\n",
    "cv2.imshow(\"Image\",image)\n",
    "cv2.waitKey(0)\n",
    "cv2.destroyAllWindows()"
   ]
  },
  {
   "cell_type": "code",
   "execution_count": null,
   "id": "6fa2e2b9",
   "metadata": {},
   "outputs": [],
   "source": []
  }
 ],
 "metadata": {
  "kernelspec": {
   "display_name": "Python 3 (ipykernel)",
   "language": "python",
   "name": "python3"
  },
  "language_info": {
   "codemirror_mode": {
    "name": "ipython",
    "version": 3
   },
   "file_extension": ".py",
   "mimetype": "text/x-python",
   "name": "python",
   "nbconvert_exporter": "python",
   "pygments_lexer": "ipython3",
   "version": "3.11.5"
  }
 },
 "nbformat": 4,
 "nbformat_minor": 5
}
